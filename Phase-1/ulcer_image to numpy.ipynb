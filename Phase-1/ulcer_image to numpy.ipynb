{
 "cells": [
  {
   "cell_type": "code",
   "execution_count": 1,
   "id": "47c7dca6",
   "metadata": {},
   "outputs": [],
   "source": [
    "#load necessary packages\n",
    "import os\n",
    "from PIL import Image\n",
    "import numpy as np\n",
    "import shutil"
   ]
  },
  {
   "cell_type": "code",
   "execution_count": 2,
   "id": "b17d60b8",
   "metadata": {},
   "outputs": [
    {
     "name": "stdout",
     "output_type": "stream",
     "text": [
      "Total ulcer Images: 44893\n",
      "                               0  1\n",
      "0      DMS-RG-0840891-C-01_sppx1  0\n",
      "1      DMS-RG-0840891-C-01_sppx2  0\n",
      "2      DMS-RG-0840891-C-01_sppx3  0\n",
      "3      DMS-RG-0840891-C-01_sppx4  0\n",
      "4      DMS-RG-0840891-C-01_sppx5  0\n",
      "...                          ... ..\n",
      "44888           IMG_6537_sppx538  0\n",
      "44889           IMG_6537_sppx539  0\n",
      "44890           IMG_6537_sppx540  0\n",
      "44891           IMG_6537_sppx541  0\n",
      "44892           IMG_6537_sppx542  0\n",
      "\n",
      "[44893 rows x 2 columns]\n"
     ]
    }
   ],
   "source": [
    "import pandas as pd\n",
    "file_list = pd.read_csv('../ULCER_SET_CLASSES', header = None)\n",
    "print('Total ulcer Images:', file_list.shape[0])\n",
    "print(file_list)"
   ]
  },
  {
   "cell_type": "code",
   "execution_count": 11,
   "id": "ee376af7",
   "metadata": {},
   "outputs": [
    {
     "name": "stdout",
     "output_type": "stream",
     "text": [
      "not wound images :  37187\n",
      "fibrin images:  3974\n",
      "granulation images :  3284\n",
      "necrosed images :  448\n"
     ]
    }
   ],
   "source": [
    "#record and print out the filename list that belong to group 0,1,2,3\n",
    "file_list_group0 = file_list.loc[file_list[1] == 0, 0]\n",
    "file_list_group1 = file_list.loc[file_list[1] == 1, 0]\n",
    "file_list_group2 = file_list.loc[file_list[1] == 2, 0]\n",
    "file_list_group3 = file_list.loc[file_list[1] == 3, 0]\n",
    "print('not wound images : ', file_list_group0.shape[0])\n",
    "print('fibrin images: ', file_list_group1.shape[0])\n",
    "print('granulation images : ', file_list_group2.shape[0])\n",
    "print('necrosed images : ', file_list_group3.shape[0])\n"
   ]
  },
  {
   "cell_type": "code",
   "execution_count": 12,
   "id": "7ecd1b5b",
   "metadata": {},
   "outputs": [
    {
     "name": "stdout",
     "output_type": "stream",
     "text": [
      "True\n",
      "False\n"
     ]
    }
   ],
   "source": [
    "#example why need to add . to every item in the list\n",
    "s = 'IMG_6537_sppx12.png'\n",
    "print(s.startswith('IMG_6537_sppx1'))\n",
    "print(s.startswith('IMG_6537_sppx1.'))\n",
    "file_list_group0_d = [item + \".\" for item in file_list_group0]\n",
    "file_list_group1_d = [item + \".\" for item in file_list_group1]\n",
    "file_list_group2_d = [item + \".\" for item in file_list_group2]\n",
    "file_list_group3_d = [item + \".\" for item in file_list_group3]\n",
    "#print(file_list_group3_d)"
   ]
  },
  {
   "cell_type": "code",
   "execution_count": 13,
   "id": "e19a134c",
   "metadata": {},
   "outputs": [],
   "source": [
    "#grouping and check if matching\n",
    "source = \"../ULCER_SET\"\n",
    "dest_g0 = \"ulcer_dataset/g0\"\n",
    "dest_g1 = \"ulcer_dataset/g1\"\n",
    "dest_g2 = \"ulcer_dataset/g2\"\n",
    "dest_g3 = \"ulcer_dataset/g3\"\n",
    "\n",
    "directories = os.listdir(source)\n",
    "for f in directories:\n",
    "    if (f.startswith(tuple(file_list_group0_d))):\n",
    "        shutil.copy2(os.path.join(source,f), dest_g0)\n",
    "    elif (f.startswith(tuple(file_list_group1_d))):\n",
    "        shutil.copy2(os.path.join(source,f), dest_g1)\n",
    "    elif (f.startswith(tuple(file_list_group2_d))):\n",
    "        shutil.copy2(os.path.join(source,f), dest_g2)\n",
    "    elif (f.startswith(tuple(file_list_group3_d))):\n",
    "        shutil.copy2(os.path.join(source,f), dest_g3)"
   ]
  },
  {
   "cell_type": "code",
   "execution_count": 14,
   "id": "dbcd160a",
   "metadata": {},
   "outputs": [
    {
     "name": "stdout",
     "output_type": "stream",
     "text": [
      "['g0', 'g2', 'g3', '.ipynb_checkpoints', 'g1']\n"
     ]
    }
   ],
   "source": [
    "#Directory containing images you wish to convert\n",
    "input_dir = \"ulcer_dataset\"\n",
    "directories = os.listdir(input_dir)\n",
    "print(directories)"
   ]
  },
  {
   "cell_type": "code",
   "execution_count": null,
   "id": "7957ab6a",
   "metadata": {},
   "outputs": [],
   "source": []
  },
  {
   "cell_type": "code",
   "execution_count": 30,
   "id": "a40e58d9",
   "metadata": {},
   "outputs": [
    {
     "name": "stdout",
     "output_type": "stream",
     "text": [
      "g0\n",
      "The currently using folder is:  g0\n",
      "g1\n",
      "The currently using folder is:  g1\n",
      "g2\n",
      "The currently using folder is:  g2\n",
      "g3\n",
      "The currently using folder is:  g3\n",
      "Number of folders/classes:  4\n"
     ]
    }
   ],
   "source": [
    "index = 0\n",
    "index2 = 0\n",
    "\n",
    "for folder in ['g0','g1','g2','g3']:\n",
    "    #Ignoring .DS_Store dir\n",
    "    print(folder)\n",
    "    if folder == '.ipynb_checkpoints':\n",
    "        continue\n",
    "    else:\n",
    "        print(\"The currently using folder is: \", folder)\n",
    "        folder2 = os.listdir(input_dir + '/' + folder)\n",
    "        index += 1\n",
    "        for image in folder2:\n",
    "            if image == \".ipynb_checkpoints\":\n",
    "                pass\n",
    "            else:\n",
    "                index2 += 1\n",
    "                im = Image.open(input_dir+\"/\"+folder+\"/\"+image) #Opening image\n",
    "                resized_im = im.resize((70,70), resample = Image.NEAREST ) # resized image of size 70x70, because origin images were just missing 1 or 2 pixels on edge using nearset neighbor method                \n",
    "                im = (np.array(resized_im)) #Converting to numpy array\n",
    "                \n",
    "                try:\n",
    "                    r = im[:,:,0] #Slicing to get R data\n",
    "                    g = im[:,:,1] #Slicing to get G data\n",
    "                    b = im[:,:,2] #Slicing to get B data\n",
    "                \n",
    "                    if index2 != 1:\n",
    "                        new_array = np.array([[r] + [g] + [b]], np.uint8) #Creating array with shape (3, 70, 70)\n",
    "                        out = np.append(out, new_array, 0) #Adding new image to array shape of (x, 3, 70, 70) where x is image number\n",
    "                \n",
    "                    elif index2 == 1:\n",
    "                        out = np.array([[r] + [g] + [b]], np.uint8) #Creating array with shape (3, 70, 70)\n",
    "                \n",
    "                    if index == 1 and index2 == 1:\n",
    "                        index_array = np.array([[index]])\n",
    "                \n",
    "                    else:\n",
    "                        new_index_array = np.array([[index]], np.int8)\n",
    "                        index_array = np.append(index_array, new_index_array, 0)\n",
    "            \n",
    "                except Exception as e:\n",
    "                    print(e)\n",
    "                    print(\"Removing image\" + image)\n",
    "                    #os.remove(input_dir+\"/\"+folder+\"/\"+image)\n",
    "\n",
    "print(\"Number of folders/classes: \", index)"
   ]
  },
  {
   "cell_type": "code",
   "execution_count": 31,
   "id": "0fa75772",
   "metadata": {},
   "outputs": [],
   "source": [
    "#saving the train image arrays and labels\n",
    "np.save('features_train.npy', out) #Saving train image arrays\n",
    "np.save('labels_train.npy', index_array) #Saving train labels"
   ]
  },
  {
   "cell_type": "code",
   "execution_count": null,
   "id": "1cd8ef14",
   "metadata": {},
   "outputs": [],
   "source": []
  }
 ],
 "metadata": {
  "kernelspec": {
   "display_name": "Python 3 (ipykernel)",
   "language": "python",
   "name": "python3"
  },
  "language_info": {
   "codemirror_mode": {
    "name": "ipython",
    "version": 3
   },
   "file_extension": ".py",
   "mimetype": "text/x-python",
   "name": "python",
   "nbconvert_exporter": "python",
   "pygments_lexer": "ipython3",
   "version": "3.9.12"
  }
 },
 "nbformat": 4,
 "nbformat_minor": 5
}
