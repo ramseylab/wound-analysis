{
 "cells": [
  {
   "cell_type": "markdown",
   "metadata": {},
   "source": [
    "# Using Augmentor to generate large image dataset"
   ]
  },
  {
   "cell_type": "markdown",
   "metadata": {},
   "source": [
    "## Import Required Libraries & Use Augmentor to Scan Directory for Data"
   ]
  },
  {
   "cell_type": "code",
   "execution_count": 1,
   "metadata": {},
   "outputs": [
    {
     "name": "stderr",
     "output_type": "stream",
     "text": [
      "                                                        "
     ]
    },
    {
     "name": "stdout",
     "output_type": "stream",
     "text": [
      "Initialised with 110 image(s) found.\n",
      "Output directory set to /media/qiwei/work/Python_playground/smart_bandage/wound_segmentation_code/Fully_automatic_wound_segmentation_paper_code/data/Low_reso_dog1_8/images/output.110 ground truth image(s) found.\n"
     ]
    },
    {
     "name": "stderr",
     "output_type": "stream",
     "text": [
      "\r"
     ]
    }
   ],
   "source": [
    "import Augmentor\n",
    "\n",
    "p = Augmentor.Pipeline(\"/media/qiwei/work/Python_playground/smart_bandage/wound_segmentation_code/Fully_automatic_wound_segmentation_paper_code/data/Low_reso_dog1_8/images\")\n",
    "\n",
    "# Point to a directory containing ground truth data.\n",
    "# Images with the same file names will be added as ground truth data\n",
    "# and augmented in parallel to the original data.\n",
    "p.ground_truth(\"/media/qiwei/work/Python_playground/smart_bandage/wound_segmentation_code/Fully_automatic_wound_segmentation_paper_code/data/Low_reso_dog1_8/labels\")"
   ]
  },
  {
   "cell_type": "markdown",
   "metadata": {},
   "source": [
    "## Add Operations to the Pipeline\n",
    "Now that a pipeline object p has been created, we can add operations to the pipeline."
   ]
  },
  {
   "cell_type": "code",
   "execution_count": 2,
   "metadata": {},
   "outputs": [
    {
     "name": "stdout",
     "output_type": "stream",
     "text": [
      "Operations: 9\n",
      "\t0: RotateRange (max_right_rotation=25 max_left_rotation=-25 probability=1.0 )\n",
      "\t1: Skew (magnitude=1 skew_type=TILT probability=0.7 )\n",
      "\t2: Skew (magnitude=1 skew_type=CORNER probability=0.7 )\n",
      "\t3: Shear (max_shear_left=15 max_shear_right=15 probability=0.5 )\n",
      "\t4: Flip (top_bottom_left_right=LEFT_RIGHT probability=0.5 )\n",
      "\t5: Flip (top_bottom_left_right=TOP_BOTTOM probability=0.5 )\n",
      "\t6: Distort (randomise_magnitude=True probability=0.3 magnitude=1 grid_width=6 grid_height=6 )\n",
      "\t7: RandomBrightness (max_factor=1.3 min_factor=0.7 probability=0.4 )\n",
      "\t8: RandomContrast (max_factor=1.1 min_factor=0.9 probability=0.4 )\n",
      "Images: 110\n",
      "Classes: 1\n",
      "\tClass index: 0 Class label: images \n",
      "Dimensions: 1\n",
      "\tWidth: 224 Height: 224\n",
      "Formats: 1\n",
      "\t PNG\n",
      "\n",
      "You can remove operations using the appropriate index and the remove_operation(index) function.\n"
     ]
    }
   ],
   "source": [
    "# Add operations to the pipeline as normal:\n",
    "\n",
    "# set seed\n",
    "p.set_seed(42)\n",
    "\n",
    "# Rotation\n",
    "# The probability parameter controls how often the operation is applied. \n",
    "# The max_left_rotation and max_right_rotation controls the degree by which the image is rotated\n",
    "p.rotate(probability=1.0, max_left_rotation=25, max_right_rotation=25)\n",
    "\n",
    "# Perspective Skewing\n",
    "# transforming the image so that it appears that you are looking at the image from a different angle.\n",
    "# probability=0.3\n",
    "p.skew_tilt(probability=0.7)\n",
    "p.skew_corner(probability=0.7)\n",
    "\n",
    "# Shear the image by a specified number of degrees\n",
    "p.shear(probability=0.5, max_shear_left=15, max_shear_right=15)\n",
    "\n",
    "# Flip\n",
    "p.flip_left_right(probability=0.5)\n",
    "p.flip_top_bottom(probability=0.5)\n",
    "\n",
    "# zoom\n",
    "#p.zoom_random(probability=0.5, percentage_area=0.8)\n",
    "\n",
    "# Random distoration\n",
    "# The grid width and height controls how fine the distortions are. \n",
    "# Smaller sizes will result in larger, more pronounced, and less granular distortions. \n",
    "# Larger numbers will result in finer, more granular distortions. \n",
    "# The magnitude of the distortions can be controlled using magnitude. This can be random or fixed.\n",
    "# Good values for parameters are between 2 and 10 for the grid width and height, with a magnitude of between 1 and 10.\n",
    "p.random_distortion(probability = 0.3, grid_width = 6, grid_height = 6, magnitude = 1)\n",
    "\n",
    "# Random brightness\n",
    "# Random change brightness of an image. min_factor=0.9, max_factor=1.1\n",
    "p.random_brightness(probability=0.4, min_factor=0.7, max_factor=1.3)\n",
    "\n",
    "# Random contrast on image\n",
    "p.random_contrast(probability=0.4, min_factor=0.9, max_factor=1.1)\n",
    "\n",
    "# view the status of pipeline using the status() function, \n",
    "# which shows information regarding the number of classes in the pipeline,\n",
    "# the number of images, and what operations have been added to the pipeline:\n",
    "p.status()"
   ]
  },
  {
   "cell_type": "markdown",
   "metadata": {},
   "source": [
    "## Sample and ouput augmented images and labels"
   ]
  },
  {
   "cell_type": "code",
   "execution_count": 3,
   "metadata": {},
   "outputs": [
    {
     "name": "stderr",
     "output_type": "stream",
     "text": [
      "Processing <PIL.Image.Image image mode=RGBA size=224x224 at 0x7F8F806888D0>: 100%|██████████| 2800/2800 [00:51<00:00, 54.23 Samples/s] \n"
     ]
    }
   ],
   "source": [
    "# Generate 700, 1400, 2100, or 2800 number of samples from the current pipeline.\n",
    "p.set_save_format(save_format=\"auto\")\n",
    "p.sample(2800, multi_threaded=True)\n",
    "#print(p.get_ground_truth_paths())"
   ]
  },
  {
   "cell_type": "code",
   "execution_count": null,
   "metadata": {},
   "outputs": [],
   "source": []
  }
 ],
 "metadata": {
  "kernelspec": {
   "display_name": "Python 3 (ipykernel)",
   "language": "python",
   "name": "python3"
  },
  "language_info": {
   "codemirror_mode": {
    "name": "ipython",
    "version": 3
   },
   "file_extension": ".py",
   "mimetype": "text/x-python",
   "name": "python",
   "nbconvert_exporter": "python",
   "pygments_lexer": "ipython3",
   "version": "3.9.12"
  }
 },
 "nbformat": 4,
 "nbformat_minor": 2
}
