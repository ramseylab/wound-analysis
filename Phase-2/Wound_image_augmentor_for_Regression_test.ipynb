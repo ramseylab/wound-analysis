{
 "cells": [
  {
   "cell_type": "markdown",
   "metadata": {},
   "source": [
    "# Using Augmentor to generate larger image dataset"
   ]
  },
  {
   "cell_type": "markdown",
   "metadata": {},
   "source": [
    "## Import Required Libraries & Use Augmentor to Scan Directory for Data"
   ]
  },
  {
   "cell_type": "code",
   "execution_count": 4,
   "metadata": {},
   "outputs": [
    {
     "name": "stderr",
     "output_type": "stream",
     "text": [
      "                                                        "
     ]
    },
    {
     "name": "stdout",
     "output_type": "stream",
     "text": [
      "Initialised with 136 image(s) found.\n",
      "Output directory set to /media/qiwei/work/Python_playground/smart_bandage/wound_segmentation_code/Fully_automatic_wound_segmentation_paper_code/data/all_dog_wounds_noAugmentation/test/images/output.68 ground truth image(s) found.\n",
      "Operations: 0\n",
      "Images: 136\n",
      "Classes: 1\n",
      "\tClass index: 0 Class label: images \n",
      "Dimensions: 1\n",
      "\tWidth: 224 Height: 224\n",
      "Formats: 1\n",
      "\t PNG\n",
      "\n",
      "You can remove operations using the appropriate index and the remove_operation(index) function.\n"
     ]
    },
    {
     "name": "stderr",
     "output_type": "stream",
     "text": [
      "\r"
     ]
    }
   ],
   "source": [
    "import Augmentor\n",
    "\n",
    "p = Augmentor.Pipeline(\"/media/qiwei/work/Python_playground/smart_bandage/wound_segmentation_code/Fully_automatic_wound_segmentation_paper_code/data/all_dog_wounds_noAugmentation/test/images\")\n",
    "\n",
    "# Point to a directory containing ground truth data.\n",
    "# Images with the same file names will be added as ground truth data\n",
    "# and augmented in parallel to the original data.\n",
    "p.ground_truth(\"/media/qiwei/work/Python_playground/smart_bandage/wound_segmentation_code/Fully_automatic_wound_segmentation_paper_code/data/all_dog_wounds_noAugmentation/test/labels\")\n",
    "p.status()"
   ]
  },
  {
   "cell_type": "markdown",
   "metadata": {},
   "source": [
    "## Add Operations to the Pipeline\n",
    "Now that a pipeline object p has been created, we can add operations to the pipeline."
   ]
  },
  {
   "cell_type": "code",
   "execution_count": 5,
   "metadata": {},
   "outputs": [
    {
     "name": "stdout",
     "output_type": "stream",
     "text": [
      "Operations: 1\n",
      "\t0: Rotate 90 (probability=1.0 rotation=90 )\n",
      "Images: 136\n",
      "Classes: 1\n",
      "\tClass index: 0 Class label: images \n",
      "Dimensions: 1\n",
      "\tWidth: 224 Height: 224\n",
      "Formats: 1\n",
      "\t PNG\n",
      "\n",
      "You can remove operations using the appropriate index and the remove_operation(index) function.\n"
     ]
    }
   ],
   "source": [
    "# Add operations to the pipeline as normal:\n",
    "# In order to keep the augmentation steps same for a sequence of images, always use prob = 1.0\n",
    "\n",
    "# set seed\n",
    "p.set_seed(42)\n",
    "\n",
    "# Rotation\n",
    "# The probability parameter controls how often the operation is applied. \n",
    "# rotate180: Rotate an image by 180 degrees.\n",
    "# rotate90: Rotate an image by 90 degrees.\n",
    "# rotate270: Rotate an image by 270 degrees.\n",
    "\n",
    "p.rotate90(probability=1.0)\n",
    "#p.rotate180(probability=1.0)\n",
    "#p.rotate270(probability=1.0)\n",
    "\n",
    "# Perspective Skewing\n",
    "# transforming the image so that it appears that you are looking at the image from a different angle.\n",
    "# probability=1.0, magnitude, which must be value between 0.1 and 1.0, where 1 represents a tilt of 45 degrees.\n",
    "#p.skew_left_right(probability=1.0, magnitude = 0.5)\n",
    "#p.skew_top_bottom(probability=1.0, magnitude = 0.5)\n",
    "\n",
    "# zoom\n",
    "#p.zoom_random(probability=0.5, percentage_area=0.8)\n",
    "\n",
    "# Random brightness\n",
    "# Random change brightness of an image. min_factor=0.9, max_factor=1.1\n",
    "#p.random_brightness(probability=1.0, min_factor=0.9, max_factor=1.1)\n",
    "\n",
    "# Random contrast on image\n",
    "#p.random_contrast(probability=1.0, min_factor=0.9, max_factor=1.1)\n",
    "\n",
    "# view the status of pipeline using the status() function, \n",
    "# which shows information regarding the number of classes in the pipeline,\n",
    "# the number of images, and what operations have been added to the pipeline:\n",
    "p.status()"
   ]
  },
  {
   "cell_type": "markdown",
   "metadata": {},
   "source": [
    "## Sample and ouput augmented images and labels"
   ]
  },
  {
   "cell_type": "code",
   "execution_count": 6,
   "metadata": {},
   "outputs": [
    {
     "name": "stderr",
     "output_type": "stream",
     "text": [
      "Processing <PIL.Image.Image image mode=RGBA size=224x224 at 0x7F566C4D1320>: 100%|██████████| 136/136 [00:01<00:00, 116.27 Samples/s]\n"
     ]
    }
   ],
   "source": [
    "# Generate 700, 1400, 2100, or 2800 number of samples from the current pipeline.\n",
    "p.set_save_format(save_format=\"auto\")\n",
    "p.sample(136, multi_threaded=True)\n",
    "#print(p.get_ground_truth_paths())"
   ]
  },
  {
   "cell_type": "code",
   "execution_count": null,
   "metadata": {},
   "outputs": [],
   "source": []
  }
 ],
 "metadata": {
  "kernelspec": {
   "display_name": "Python 3 (ipykernel)",
   "language": "python",
   "name": "python3"
  },
  "language_info": {
   "codemirror_mode": {
    "name": "ipython",
    "version": 3
   },
   "file_extension": ".py",
   "mimetype": "text/x-python",
   "name": "python",
   "nbconvert_exporter": "python",
   "pygments_lexer": "ipython3",
   "version": "3.9.12"
  }
 },
 "nbformat": 4,
 "nbformat_minor": 2
}
