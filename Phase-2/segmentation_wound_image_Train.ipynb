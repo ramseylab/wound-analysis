{
 "cells": [
  {
   "cell_type": "code",
   "execution_count": 1,
   "metadata": {},
   "outputs": [
    {
     "name": "stdout",
     "output_type": "stream",
     "text": [
      "CUDA memory released: GPU0\n"
     ]
    }
   ],
   "source": [
    "from numba import cuda\n",
    "cuda.select_device(0)\n",
    "cuda.close()\n",
    "print('CUDA memory released: GPU0')"
   ]
  },
  {
   "cell_type": "code",
   "execution_count": 2,
   "metadata": {},
   "outputs": [],
   "source": [
    "from keras.optimizers import Adam\n",
    "from keras.utils import plot_model\n",
    "from keras.callbacks import EarlyStopping\n",
    "from keras.models import load_model\n",
    "from keras.utils.generic_utils import CustomObjectScope\n",
    "\n",
    "from models.unets import Unet2D\n",
    "from models.deeplab import Deeplabv3, relu6, DepthwiseConv2D, BilinearUpsampling\n",
    "#from models.separable_unet import Separable_Unet2D\n",
    "from models.FCN import FCN_Vgg16_16s\n",
    "from models.SegNet import SegNet\n",
    "\n",
    "from utils.learning.metrics import dice_coef, precision, recall\n",
    "from utils.learning.losses import dice_coef_loss\n",
    "from utils.io.data import DataGen, save_results, save_history, load_data"
   ]
  },
  {
   "cell_type": "markdown",
   "metadata": {},
   "source": [
    "# Check the system information"
   ]
  },
  {
   "cell_type": "code",
   "execution_count": 4,
   "metadata": {},
   "outputs": [
    {
     "name": "stdout",
     "output_type": "stream",
     "text": [
      "whether tensorflow is built with cuda:  True\n",
      "WARNING:tensorflow:From /tmp/ipykernel_39631/2138784750.py:8: is_gpu_available (from tensorflow.python.framework.test_util) is deprecated and will be removed in a future version.\n",
      "Instructions for updating:\n",
      "Use `tf.config.list_physical_devices('GPU')` instead.\n",
      "whether gpu computing is available for tensorflow:  False\n",
      "using keras version:  2.9.0\n",
      "using tensorflow version:  2.9.1\n",
      "\n",
      "\n",
      "Device details:\n",
      " [name: \"/device:CPU:0\"\n",
      "device_type: \"CPU\"\n",
      "memory_limit: 268435456\n",
      "locality {\n",
      "}\n",
      "incarnation: 14995399277592272260\n",
      "xla_global_id: -1\n",
      "]\n",
      "Please install GPU version of TF\n"
     ]
    },
    {
     "name": "stderr",
     "output_type": "stream",
     "text": [
      "2022-08-25 12:49:43.279594: I tensorflow/core/platform/cpu_feature_guard.cc:193] This TensorFlow binary is optimized with oneAPI Deep Neural Network Library (oneDNN) to use the following CPU instructions in performance-critical operations:  AVX2 FMA\n",
      "To enable them in other operations, rebuild TensorFlow with the appropriate compiler flags.\n",
      "2022-08-25 12:49:43.280314: I tensorflow/stream_executor/cuda/cuda_gpu_executor.cc:975] successful NUMA node read from SysFS had negative value (-1), but there must be at least one NUMA node, so returning NUMA node zero\n",
      "2022-08-25 12:49:43.288079: W tensorflow/stream_executor/platform/default/dso_loader.cc:64] Could not load dynamic library 'libcudnn.so.8'; dlerror: libcudnn.so.8: cannot open shared object file: No such file or directory; LD_LIBRARY_PATH: /home/aravind/anaconda3/lib/python3.9/site-packages/cv2/../../lib64:/usr/local/cuda-11.2/lib64\n",
      "2022-08-25 12:49:43.288094: W tensorflow/core/common_runtime/gpu/gpu_device.cc:1850] Cannot dlopen some GPU libraries. Please make sure the missing libraries mentioned above are installed properly if you would like to use GPU. Follow the guide at https://www.tensorflow.org/install/gpu for how to download and setup the required libraries for your platform.\n",
      "Skipping registering GPU devices...\n",
      "2022-08-25 12:49:43.381998: I tensorflow/stream_executor/cuda/cuda_gpu_executor.cc:975] successful NUMA node read from SysFS had negative value (-1), but there must be at least one NUMA node, so returning NUMA node zero\n",
      "2022-08-25 12:49:43.382162: W tensorflow/core/common_runtime/gpu/gpu_device.cc:1850] Cannot dlopen some GPU libraries. Please make sure the missing libraries mentioned above are installed properly if you would like to use GPU. Follow the guide at https://www.tensorflow.org/install/gpu for how to download and setup the required libraries for your platform.\n",
      "Skipping registering GPU devices...\n",
      "2022-08-25 12:49:43.383450: I tensorflow/stream_executor/cuda/cuda_gpu_executor.cc:975] successful NUMA node read from SysFS had negative value (-1), but there must be at least one NUMA node, so returning NUMA node zero\n",
      "2022-08-25 12:49:43.383654: W tensorflow/core/common_runtime/gpu/gpu_device.cc:1850] Cannot dlopen some GPU libraries. Please make sure the missing libraries mentioned above are installed properly if you would like to use GPU. Follow the guide at https://www.tensorflow.org/install/gpu for how to download and setup the required libraries for your platform.\n",
      "Skipping registering GPU devices...\n"
     ]
    }
   ],
   "source": [
    "#######################################################################################################\n",
    "#check the system information, check if cuda and gpu computing for tensorflow is installed properly\n",
    "import tensorflow as tf\n",
    "import keras\n",
    "from tensorflow.python.client import device_lib\n",
    "\n",
    "print(\"whether tensorflow is built with cuda: \", tf.test.is_built_with_cuda())\n",
    "print(\"whether gpu computing is available for tensorflow: \", tf.test.is_gpu_available())\n",
    "#print(\"whether gpu computing is available for tensorflow: \",tf.config.list_physical_devices('GPU'))\n",
    "print(\"using keras version: \", keras.__version__)\n",
    "print(\"using tensorflow version: \", tf.__version__)\n",
    "print(\"\\n\")\n",
    "print(\"Device details:\\n\", device_lib.list_local_devices())\n",
    "if tf.test.gpu_device_name():\n",
    "    print('Default GPU Device: {}'.format(tf.test.gpu_device_name()))\n",
    "else:\n",
    "    print(\"Please install GPU version of TF\")"
   ]
  },
  {
   "cell_type": "code",
   "execution_count": 4,
   "metadata": {},
   "outputs": [
    {
     "name": "stderr",
     "output_type": "stream",
     "text": [
      "2022-08-25 12:45:02.224762: I tensorflow/stream_executor/cuda/cuda_gpu_executor.cc:975] successful NUMA node read from SysFS had negative value (-1), but there must be at least one NUMA node, so returning NUMA node zero\n",
      "2022-08-25 12:45:02.224906: W tensorflow/core/common_runtime/gpu/gpu_device.cc:1850] Cannot dlopen some GPU libraries. Please make sure the missing libraries mentioned above are installed properly if you would like to use GPU. Follow the guide at https://www.tensorflow.org/install/gpu for how to download and setup the required libraries for your platform.\n",
      "Skipping registering GPU devices...\n"
     ]
    }
   ],
   "source": [
    "# For TF 1.0, set the GPU memory growth\n",
    "#config = tf.ConfigProto()\n",
    "#config.gpu_options.per_process_gpu_memory_fraction = 0.8\n",
    "#config.gpu_options.allow_growth = True\n",
    "#sess = tf.InteractiveSession(config=config)\n",
    "\n",
    "# For TF 2.0, set the GPU memory growth\n",
    "#physical_devices = tf.config.experimental.list_physical_devices('GPU')\n",
    "#assert len(physical_devices) > 0, \"Not enough GPU hardware devices available\"\n",
    "#config = tf.config.experimental.set_memory_growth(physical_devices[0], True)\n",
    "\n",
    "from tensorflow.compat.v1 import ConfigProto\n",
    "from tensorflow.compat.v1 import InteractiveSession\n",
    "#from tensorflow import ConfigProto\n",
    "#from tensorflow import InteractiveSession\n",
    "config = ConfigProto()\n",
    "config.gpu_options.allow_growth = True\n",
    "session = InteractiveSession(config=config)"
   ]
  },
  {
   "cell_type": "code",
   "execution_count": null,
   "metadata": {},
   "outputs": [],
   "source": [
    "# Varibales and data generator\n",
    "input_dim_x=224\n",
    "input_dim_y=224\n",
    "n_filters = 32\n",
    "dataset = 'benchmark_datasets/azh_wound_dataset'#'merged_azh_dog1_8_2800'#'dog1_8_1400'#'dog1_8'#'azh_wound_care_center_dataset_patches'#'Medetec_foot_ulcer_224'#'merged_azh_dog1_8'\n",
    "data_gen = DataGen('./data/' + dataset + '/', split_ratio=0.2, x=input_dim_x, y=input_dim_y)"
   ]
  },
  {
   "cell_type": "code",
   "execution_count": null,
   "metadata": {},
   "outputs": [],
   "source": [
    "######### Get the deep learning models #########\n",
    "\n",
    "######### Unet ##########\n",
    "#unet2d = Unet2D(n_filters=n_filters, input_dim_x=None, input_dim_y=None, num_channels=3)\n",
    "# unet-1\n",
    "#model, model_name = unet2d.get_unet_model_yuanqing()\n",
    "# unet-2\n",
    "#model, model_name = unet2d.get_unet_2_model()\n",
    "\n",
    "######### Seperable Unet ##########\n",
    "# Not working now, has package import issue\n",
    "# sep_unet = Seperable_Unet2D(n_filters=n_filters, input_dim_x=input_dim_x, input_dim_y=input_dim_y, num_channels=3)\n",
    "# model, model_name = sep_unet.get_seperable_unet_model_5_levels()\n",
    "# model, model_name = sep_unet.get_sep_unet_v3()\n",
    "\n",
    "######### MobilenetV2 and DeepLabV3+#####################\n",
    "# Not working now, has package import issue\n",
    "#model = Deeplabv3(input_shape=(input_dim_x, input_dim_y, 3), classes=1)\n",
    "#model_name = 'DeepLabV3+'\n",
    "#with CustomObjectScope({'relu6': relu6,'DepthwiseConv2D': DepthwiseConv2D, 'BilinearUpsampling': BilinearUpsampling}):\n",
    "#    model = load_model('azh_wound_care_center_diabetic_foot_training_history/2020-02-10 02:57:27.555495.hdf5'\n",
    "#                       , custom_objects={'dice_coef': dice_coef, 'precision':precision, 'recall':recall})\n",
    "\n",
    "######### Vgg16 ##########\n",
    "#model, model_name = FCN_Vgg16_16s(input_shape=(input_dim_x, input_dim_y, 3))\n",
    "\n",
    "######### SegNet ##########\n",
    "segnet = SegNet(n_filters, input_dim_x, input_dim_y, num_channels=3)\n",
    "# SegNet-1\n",
    "#model, model_name = segnet.get_SegNet()\n",
    "# SegNet-2\n",
    "#model, model_name = segnet.get_SegNet_2()\n",
    "\n",
    "# SegNet-3\n",
    "model, model_name = segnet.get_SegNet_3()\n",
    "\n",
    "#plot_model(model, to_file=model_name+'.png')"
   ]
  },
  {
   "cell_type": "code",
   "execution_count": null,
   "metadata": {},
   "outputs": [],
   "source": [
    "# training\n",
    "batch_size = 2\n",
    "epochs = 2000\n",
    "learning_rate = 1e-4\n",
    "loss = 'binary_crossentropy'\n",
    "\n",
    "# restore_best_weights need at least tf version 1.15 and keras version 2.2.3\n",
    "# currently using tf 1.10 and keras 2.1.3\n",
    "#es = EarlyStopping(monitor='val_dice_coef', patience=200, mode='max', restore_best_weights=True)\n",
    "es = EarlyStopping(monitor='val_dice_coef', patience=200, mode='max')\n",
    "#training_history = model.fit(x_train, y_train, batch_size=batch_size, epochs=epochs\n",
    "#                             , validation_split=0.2, verbose=1, callbacks=[])\n",
    "\n",
    "model.summary()\n",
    "model.compile(optimizer=Adam(lr=learning_rate), loss=loss, metrics=[dice_coef, precision, recall])\n",
    "# model.fit_generator\n",
    "training_history = model.fit_generator(data_gen.generate_data(batch_size=batch_size, train=True),\n",
    "                                       steps_per_epoch=int(data_gen.get_num_data_points(train=True) / batch_size),\n",
    "                                       callbacks=[es],\n",
    "                                       validation_data=data_gen.generate_data(batch_size=batch_size, val=True),\n",
    "                                       validation_steps=int(data_gen.get_num_data_points(val=True) / batch_size),\n",
    "                                       epochs=epochs,\n",
    "                                       max_queue_size = 1,\n",
    "                                       use_multiprocessing=False)"
   ]
  },
  {
   "cell_type": "code",
   "execution_count": null,
   "metadata": {},
   "outputs": [],
   "source": [
    "### save the model weight file and its training history\n",
    "save_history(model, model_name, training_history, dataset, n_filters, epochs, learning_rate, loss, color_space='RGB',\n",
    "             path='./trained_models/')"
   ]
  },
  {
   "cell_type": "code",
   "execution_count": null,
   "metadata": {},
   "outputs": [],
   "source": [
    "from numba import cuda\n",
    "cuda.select_device(0)\n",
    "cuda.close()\n",
    "print('CUDA memory released: GPU0')"
   ]
  },
  {
   "cell_type": "code",
   "execution_count": null,
   "metadata": {},
   "outputs": [],
   "source": []
  }
 ],
 "metadata": {
  "kernelspec": {
   "display_name": "Python 3 (ipykernel)",
   "language": "python",
   "name": "python3"
  },
  "language_info": {
   "codemirror_mode": {
    "name": "ipython",
    "version": 3
   },
   "file_extension": ".py",
   "mimetype": "text/x-python",
   "name": "python",
   "nbconvert_exporter": "python",
   "pygments_lexer": "ipython3",
   "version": "3.9.12"
  }
 },
 "nbformat": 4,
 "nbformat_minor": 2
}
