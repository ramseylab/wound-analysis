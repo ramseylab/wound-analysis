version https://git-lfs.github.com/spec/v1
oid sha256:31724e8929970b1f6bc4f24445d50837a6f3086608fba3e714036ae7cfe64095
size 43492819
