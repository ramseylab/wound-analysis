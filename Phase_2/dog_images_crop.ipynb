version https://git-lfs.github.com/spec/v1
oid sha256:0a26a7d37b80064d4d41a461d5aca8490a4134fa206a923ad1a26ca004f1857f
size 16563
